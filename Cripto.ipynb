{
 "cells": [
  {
   "cell_type": "code",
   "execution_count": 38,
   "metadata": {},
   "outputs": [],
   "source": [
    "from bs4 import BeautifulSoup\n",
    "import requests\n",
    "import re\n",
    "\n",
    "link = \"https://coinmarketcap.com/pt-br/\"\n",
    "requisicao = requests.get(link)\n",
    "site = BeautifulSoup(requisicao.text, \"html.parser\")"
   ]
  },
  {
   "cell_type": "code",
   "execution_count": 39,
   "metadata": {},
   "outputs": [
    {
     "name": "stdout",
     "output_type": "stream",
     "text": [
      "{'Bitcoin': {'nome': 'Bitcoin', 'codigo': 'BTC', 'preco': 'R$333,334.11', 'var1h': '+0.43%', 'var24h': '+3.32%', 'var7d': '-7.44%', 'market_cap': 'R$6,550,669,261,120'}, 'Ethereum': {'nome': 'Ethereum', 'codigo': 'ETH', 'preco': 'R$15,928.80', 'var1h': '+0.13%', 'var24h': '+2.26%', 'var7d': '-9.69%', 'market_cap': 'R$1,909,939,634,094'}, 'Tether': {'nome': 'Tether', 'codigo': 'USDT', 'preco': 'R$5.20', 'var1h': '-0.01%', 'var24h': '+1.84%', 'var7d': '-2.04%', 'market_cap': 'R$569,094,364,413'}, 'BNB': {'nome': 'BNB', 'codigo': 'BNB', 'preco': 'R$2,902.77', 'var1h': '+0.36%', 'var24h': '+3.66%', 'var7d': '-8.58%', 'market_cap': 'R$434,497,003,628'}, 'Solana': {'nome': 'Solana', 'codigo': 'SOL', 'preco': 'R$755.82', 'var1h': '+0.91%', 'var24h': '+6.47%', 'var7d': '-12.64%', 'market_cap': 'R$337,715,212,834'}, 'USDC': {'nome': 'USDC', 'codigo': 'USDC', 'preco': 'R$5.20', 'var1h': '+0.00%', 'var24h': '+1.86%', 'var7d': '-2.14%', 'market_cap': 'R$172,586,116,769'}, 'XRP': {'nome': 'XRP', 'codigo': 'XRP', 'preco': 'R$2.61', 'var1h': '+0.62%', 'var24h': '+2.38%', 'var7d': '-15.52%', 'market_cap': 'R$143,835,409,431'}, 'Dogecoin': {'nome': 'Dogecoin', 'codigo': 'DOGE', 'preco': 'R$0.7941', 'var1h': '+1.57%', 'var24h': '+4.51%', 'var7d': '-19.49%', 'market_cap': 'R$114,310,437,586'}, 'Toncoin': {'nome': 'Toncoin', 'codigo': 'TON', 'preco': 'R$32.06', 'var1h': '-1.39%', 'var24h': '+0.36%', 'var7d': '-10.59%', 'market_cap': 'R$111,267,394,801'}, 'Cardano': {'nome': 'Cardano', 'codigo': 'ADA', 'preco': 'R$2.44', 'var1h': '+0.42%', 'var24h': '+5.72%', 'var7d': '-15.74%', 'market_cap': 'R$86,826,398,841'}}\n"
     ]
    }
   ],
   "source": [
    "tbody = site.find(\"tbody\")\n",
    "linhas = tbody.find_all(\"tr\")\n",
    "moedas = {}\n",
    "for linha in linhas:\n",
    "    try:\n",
    "        nome = linha.find(class_=\"kKpPOn\").text\n",
    "        codigo = linha.find(class_=\"coin-item-symbol\").text\n",
    "        valores = linha.find_all(string=re.compile(r\"\\$\"))\n",
    "        preco = valores[0]\n",
    "        variacoes = linha.find_all(string=re.compile(r\"\\%\"))\n",
    "        \n",
    "        for i, variacao in enumerate(variacoes):\n",
    "            if \"YXxPZ\" in variacao.parent[\"class\"]:\n",
    "                variacoes[i] = \"+\" + variacao\n",
    "            else:\n",
    "                variacoes[i] = \"-\" + variacao\n",
    "        \n",
    "        var1h = variacoes[0]\n",
    "        var24h = variacoes[1]\n",
    "        var7d = variacoes[2]\n",
    "        market_cap = valores[2]\n",
    "        cripto_dic = {\"nome\":nome, \"codigo\":codigo, \"preco\":preco, \"var1h\":var1h, \"var24h\":var24h, \"var7d\":var7d, \"market_cap\":market_cap}\n",
    "        moedas[nome] = cripto_dic\n",
    "    except AttributeError:\n",
    "        break\n"
   ]
  }
 ],
 "metadata": {
  "kernelspec": {
   "display_name": "Python 3",
   "language": "python",
   "name": "python3"
  },
  "language_info": {
   "codemirror_mode": {
    "name": "ipython",
    "version": 3
   },
   "file_extension": ".py",
   "mimetype": "text/x-python",
   "name": "python",
   "nbconvert_exporter": "python",
   "pygments_lexer": "ipython3",
   "version": "3.12.2"
  }
 },
 "nbformat": 4,
 "nbformat_minor": 2
}
